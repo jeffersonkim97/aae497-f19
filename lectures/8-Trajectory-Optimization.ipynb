{
 "cells": [
  {
   "cell_type": "code",
   "execution_count": 1,
   "metadata": {},
   "outputs": [],
   "source": [
    "import casadi as ca\n",
    "import numpy as np\n",
    "import matplotlib.pyplot as plt\n",
    "from casadi.tools.graph import dotgraph\n",
    "\n",
    "from IPython.display import Image\n",
    "\n",
    "def draw_graph(expr):\n",
    "    return Image(dotgraph(expr).create_png())\n",
    "\n",
    "import sys\n",
    "sys.path.insert(0, '../python/pyecca')\n",
    "\n",
    "from pyecca.util import rk4"
   ]
  },
  {
   "cell_type": "markdown",
   "metadata": {},
   "source": [
    "This notebooks demonstrates how to design reference trajectories for a rocket using the nonlinear optimization tools within Casadi."
   ]
  },
  {
   "cell_type": "code",
   "execution_count": 2,
   "metadata": {},
   "outputs": [],
   "source": [
    "def derive_equations():\n",
    "    p_x = ca.SX.sym('p_x')\n",
    "    p_z = ca.SX.sym('p_z')\n",
    "    v_x = ca.SX.sym('v_x')\n",
    "    v_z = ca.SX.sym('v_z')\n",
    "    theta = ca.SX.sym('theta')\n",
    "    omega = ca.SX.sym('omega')\n",
    "    thrust = ca.SX.sym('thrust')\n",
    "    g = ca.SX.sym('g')\n",
    "    t = ca.SX.sym('t')\n",
    "\n",
    "    x = ca.vertcat(p_x, p_z, v_x, v_z, theta)\n",
    "    u = ca.vertcat(omega)\n",
    "    p = ca.vertcat(thrust, g)\n",
    "\n",
    "    dx = ca.vertcat(v_x, v_z, thrust*ca.cos(theta), thrust*ca.sin(theta) - g, omega)\n",
    "    return {\n",
    "        'rhs': ca.Function('rhs', [x, u, p], [dx])\n",
    "    }"
   ]
  },
  {
   "cell_type": "code",
   "execution_count": 3,
   "metadata": {},
   "outputs": [
    {
     "name": "stdout",
     "output_type": "stream",
     "text": [
      "Solve_Succeeded\n"
     ]
    },
    {
     "data": {
      "image/png": "[encoded data removed]",
      "text/plain": [
       "<Figure size 432x288 with 1 Axes>"
      ]
     },
     "metadata": {
      "needs_background": "light"
     },
     "output_type": "display_data"
    },
    {
     "data": {
      "image/png": "[encoded data removed]",
      "text/plain": [
       "<Figure size 432x288 with 1 Axes>"
      ]
     },
     "metadata": {
      "needs_background": "light"
     },
     "output_type": "display_data"
    }
   ],
   "source": [
    "def objective(eqs, x_vect, u_vect, p):\n",
    "    return ca.dot(u_vect, u_vect)\n",
    "\n",
    "def constraint(eqs, x_vect, u_vect, p):\n",
    "    uf = u_vect[-1]\n",
    "    xf = x_vect[:, -1]\n",
    "    #x_dot = eqs['rhs'](xf, uf, p)\n",
    "    return ca.vertcat(\n",
    "        xf[1] - 10,  # be at 10 m altitude\n",
    "        xf[3],  # don't change altitude\n",
    "    )\n",
    "    \n",
    "def optimize_trajectory(eqs, x0, p, t0, tf, h):\n",
    "    # symbolic integration\n",
    "    x = x0\n",
    "    \n",
    "    t_vect = np.arange(t0, tf, h)\n",
    "    n = len(t_vect)\n",
    "    u_vect = ca.SX.sym('u', n)\n",
    "    x_vect = x0\n",
    "\n",
    "    for t, u in zip(t_vect, u_vect):\n",
    "        x = rk4(lambda t, x: eqs['rhs'](x, u, p), t, x, h)\n",
    "        x_vect = ca.horzcat(x_vect, x)\n",
    "    # NLP declaration\n",
    "    nlp = {'x':u_vect,'f':objective(eqs, x, u_vect, p),'g':constraint(eqs, x_vect , u_vect, p)};\n",
    "    S = ca.nlpsol('S', 'ipopt', nlp, {\n",
    "        'print_time': 0,\n",
    "        'ipopt': {\n",
    "            'sb': 'yes',\n",
    "            'print_level': 0,\n",
    "            }\n",
    "        })\n",
    "    n_g = 1\n",
    "    res = S(x0=np.zeros(n),\n",
    "            lbg=np.zeros(n_g), ubg=np.zeros(n_g),\n",
    "            lbx=-10*np.ones(n), ubx=10*np.ones(n)\n",
    "           )\n",
    "    stats = S.stats()\n",
    "    print(stats['return_status'])\n",
    "    u_opt = res['x']\n",
    "    return t_vect, u_opt, x\n",
    "\n",
    "def simulate(eqs, x0, p, t_vect, u_vect):\n",
    "    data = {\n",
    "        't': [t_vect[0]],\n",
    "        'x': [np.reshape(x0, -1)],\n",
    "        'u': [u_vect[0]]\n",
    "    }\n",
    "    x = x0\n",
    "    h = t_vect[1] - t_vect[0] # assumes equally spaced\n",
    "    for t, u in zip(t_vect, u_vect):\n",
    "        x = rk4(lambda t, x: eqs['rhs'](x, u, p), t, x, h)\n",
    "        data['t'].append(t)\n",
    "        data['u'].append(u)\n",
    "        data['x'].append(np.reshape(x, -1))\n",
    "    for k in data.keys():\n",
    "        data[k] = np.array(data[k], dtype=float)\n",
    "    return data\n",
    "\n",
    "p = ca.vertcat(100, 9.8)\n",
    "eqs = derive_equations()\n",
    "x0 = ca.DM([0, 0, 0, 0, np.deg2rad(75)])\n",
    "t_vect, u_opt, x = optimize_trajectory(eqs, x0=x0, p=p, t0=0, tf=2, h=0.1)\n",
    "data = simulate(eqs, x0, p, t_vect, u_opt)\n",
    "\n",
    "plt.figure()\n",
    "plt.plot(data['t'], data['x'][:, 0], label='x')\n",
    "plt.plot(data['t'], data['x'][:, 1], label='z')\n",
    "plt.plot(data['t'], data['u'], label='omega')\n",
    "plt.xlabel('t, sec')\n",
    "plt.grid(True)\n",
    "plt.legend()\n",
    "\n",
    "plt.figure()\n",
    "plt.plot(data['x'][:, 0], data['x'][:, 1])\n",
    "plt.xlabel('x')\n",
    "plt.ylabel('z')\n",
    "plt.grid(True)\n",
    "plt.title('trajectory [side]')\n",
    "plt.savefig('rocket_ref_trajectory.png')"
   ]
  },
  {
   "cell_type": "code",
   "execution_count": 5,
   "metadata": {},
   "outputs": [
    {
     "name": "stdout",
     "output_type": "stream",
     "text": [
      "{'t': array([0. , 0. , 0.1, 0.2, 0.3, 0.4, 0.5, 0.6, 0.7, 0.8, 0.9, 1. , 1.1,\n",
      "       1.2, 1.3, 1.4, 1.5, 1.6, 1.7, 1.8, 1.9]), 'x': array([[ 0.00000000e+00,  0.00000000e+00,  0.00000000e+00,\n",
      "         0.00000000e+00,  1.30899694e+00],\n",
      "       [ 1.85425836e-01,  4.13425622e-01,  4.24588761e+00,\n",
      "         8.01485448e+00,  9.50542678e-01],\n",
      "       [ 9.41383912e-01,  1.53843557e+00,  1.12507933e+01,\n",
      "         1.41116607e+01,  6.30465467e-01],\n",
      "       [ 2.49436332e+00,  3.15728853e+00,  2.00222824e+01,\n",
      "         1.78702140e+01,  3.60145131e-01],\n",
      "       [ 4.97539970e+00,  5.03704740e+00,  2.96883180e+01,\n",
      "         1.93754078e+01,  1.43165280e-01],\n",
      "       [ 8.44191593e+00,  6.96953205e+00,  3.96586505e+01,\n",
      "         1.89996520e+01, -2.21049120e-02],\n",
      "       [ 1.29066457e+01,  8.78982203e+00,  4.96200398e+01,\n",
      "         1.72103801e+01, -1.40020763e-01],\n",
      "       [ 1.83617525e+01,  1.03795829e+01,  5.94596948e+01,\n",
      "         1.44603090e+01, -2.15955080e-01],\n",
      "       [ 2.47946365e+01,  1.16630682e+01,  6.91826412e+01,\n",
      "         1.11454951e+01, -2.55389041e-01],\n",
      "       [ 3.21963363e+01,  1.26009893e+01,  7.88478592e+01,\n",
      "         7.59975848e+00, -2.63563464e-01],\n",
      "       [ 4.05646296e+01,  1.31846226e+01,  8.85256077e+01,\n",
      "         4.10213121e+00, -2.45446094e-01],\n",
      "       [ 4.99037454e+01,  1.34307602e+01,  9.82714772e+01,\n",
      "         8.84955282e-01, -2.05838076e-01],\n",
      "       [ 6.02221273e+01,  1.33772777e+01,  1.08112751e+02,\n",
      "        -1.86221294e+00, -1.49508941e-01],\n",
      "       [ 7.15293260e+01,  1.30788485e+01,  1.18044310e+02,\n",
      "        -3.99346256e+00, -8.12975945e-02],\n",
      "       [ 8.38328879e+01,  1.26023975e+01,  1.28032402e+02,\n",
      "        -5.41046392e+00, -6.15110578e-03],\n",
      "       [ 9.71359503e+01,  1.20221155e+01,  1.38024690e+02,\n",
      "        -6.06685472e+00,  7.09002684e-02],\n",
      "       [ 1.11436064e+02,  1.14141194e+01,  1.47964319e+02,\n",
      "        -5.97062569e+00,  1.44812527e-01],\n",
      "       [ 1.26725501e+02,  1.08510335e+01,  1.57805053e+02,\n",
      "        -5.18317654e+00,  2.10608887e-01],\n",
      "       [ 1.42993004e+02,  1.03968282e+01,  1.67524338e+02,\n",
      "        -3.81535779e+00,  2.63435617e-01],\n",
      "       [ 1.60226615e+02,  1.01021309e+01,  1.77131632e+02,\n",
      "        -2.02234129e+00,  2.98563011e-01],\n",
      "       [ 1.78417026e+02,  1.00000000e+01,  1.86670216e+02,\n",
      "        -1.46549439e-14,  3.11317451e-01]]), 'u': array([-3.58454261, -3.58454261, -3.20077211, -2.70320337, -2.16979851,\n",
      "       -1.65270192, -1.17915851, -0.75934317, -0.39433961, -0.08174423,\n",
      "        0.1811737 ,  0.39608019,  0.56329134,  0.68211347,  0.75146489,\n",
      "        0.77051374,  0.73912258,  0.6579636 ,  0.5282673 ,  0.35127394,\n",
      "        0.1275444 ])}\n",
      "dict_keys(['t', 'x', 'u'])\n"
     ]
    }
   ],
   "source": [
    "print(data)\n",
    "print(data.keys())"
   ]
  },
  {
   "cell_type": "code",
   "execution_count": null,
   "metadata": {},
   "outputs": [],
   "source": []
  }
 ],
 "metadata": {
  "kernelspec": {
   "display_name": "Python 3",
   "language": "python",
   "name": "python3"
  },
  "language_info": {
   "codemirror_mode": {
    "name": "ipython",
    "version": 3
   },
   "file_extension": ".py",
   "mimetype": "text/x-python",
   "name": "python",
   "nbconvert_exporter": "python",
   "pygments_lexer": "ipython3",
   "version": "3.7.3"
  }
 },
 "nbformat": 4,
 "nbformat_minor": 4
}
