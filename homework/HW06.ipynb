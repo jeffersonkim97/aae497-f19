{
 "cells": [
  {
   "cell_type": "code",
   "execution_count": 4,
   "metadata": {},
   "outputs": [],
   "source": [
    "import casadi as ca\n",
    "import sys\n",
    "sys.path.insert(0, '../python/pyecca')\n",
    "\n",
    "import matplotlib.pyplot as plt\n",
    "from pyecca.util import rk4\n",
    "import numpy as np\n",
    "\n",
    "from casadi.tools.graph import dotgraph \n",
    "from IPython.display import Image\n",
    "\n",
    "def draw_graph(expr):\n",
    "    return Image(dotgraph(expr).create_png())\n"
   ]
  },
  {
   "cell_type": "code",
   "execution_count": 17,
   "metadata": {},
   "outputs": [],
   "source": [
    "def numerical(x_end, n_x):\n",
    "    \"\"\"\n",
    "    Edit this function and setup an optimal control problem that minimizes the time\n",
    "    it takes for a ball rolling a long a curve to reach the end of the path assuming it\n",
    "    starts at a height of 1 m and ends at a height of 0 m and the length of the path is\n",
    "    x_end m.\n",
    "    \"\"\"\n",
    "    x = np.linspace(0, x_end, n_x)  # x position where path changes\n",
    "    dx = x[1] - x[0]  # path steps width\n",
    "    n_dy = n_x - 1  # number of height changes we need to find\n",
    "    dy0 = -(1/n_dy)*np.ones(n_dy)  # initial guess for height change along path\n",
    "    dy_vect = ca.SX.sym('dy_vect', n_dy)\n",
    "    \n",
    "    #def objective(dy_vect):\n",
    "    t = 0;\n",
    "    y = 1;\n",
    "    g = 9.81;\n",
    "    dx = x_end/n_dy\n",
    "\n",
    "    for i in range(n_dy):\n",
    "        dy = dy_vect[i]\n",
    "        d = ca.sqrt(dx**2 + dy**2)\n",
    "        vbar = (ca.sqrt(2*g*(1 - y))\n",
    "                + ca.sqrt(2*g*(1 - (y+dy))))/ 2\n",
    "        y += dy\n",
    "        t += d/vbar\n",
    "    y_final = y\n",
    "    t_final = t\n",
    "        #return t_final\n",
    "    \n",
    "    #time = objective(dy_vect)\n",
    "    nlp = {'x':dy_vect, 'f':t_final, 'g': y_final}\n",
    "    S = ca.nlpsol('S', 'ipopt', nlp)\n",
    "    result = S(x0=dy0, lbg=0, ubg=0)\n",
    "    x_opt = result['x']\n",
    "    \n",
    "    dy_opt = x_opt # TODO, find optimal change in y along path\n",
    "    y_opt = ca.vertcat(1, 1 + np.cumsum(dy_opt))\n",
    "    return x, y_opt"
   ]
  },
  {
   "cell_type": "code",
   "execution_count": 18,
   "metadata": {},
   "outputs": [],
   "source": [
    "# NLP declaration to solve for boundary condition of brachistochrone\n",
    "def analytical(x_end, n_x):\n",
    "    c = ca.SX.sym('c')\n",
    "    theta_f = ca.SX.sym('theta_f')\n",
    "    xf = c*(theta_f - np.sin(theta_f))\n",
    "    yf = 1 - c*(1 - np.cos(theta_f))\n",
    "\n",
    "    nlp = {'x':ca.vertcat(c, theta_f), 'f':0,'g':ca.vertcat(xf-x_end,yf)}\n",
    "    S = ca.nlpsol('S', 'ipopt', nlp, {\n",
    "        'print_time': 0,\n",
    "        'ipopt': {\n",
    "            'sb': 'yes',\n",
    "            'print_level': 0,\n",
    "            }\n",
    "        })\n",
    "    res = S(x0=(1, np.pi), lbg=(0, 0), ubg=(0, 0))\n",
    "    C_opt = float(res['x'][0])\n",
    "    theta_f_opt = float(res['x'][1])\n",
    "    theta = np.linspace(0, theta_f_opt, n_x)\n",
    "    xa = C_opt*(theta - np.sin(theta))\n",
    "    ya = 1 - C_opt*(1 - np.cos(theta))\n",
    "    return xa, ya"
   ]
  },
  {
   "cell_type": "code",
   "execution_count": 19,
   "metadata": {},
   "outputs": [
    {
     "name": "stdout",
     "output_type": "stream",
     "text": [
      "This is Ipopt version 3.12.3, running with linear solver mumps.\n",
      "NOTE: Other linear solvers might be more efficient (see Ipopt documentation).\n",
      "\n",
      "Number of nonzeros in equality constraint Jacobian...:        0\n",
      "Number of nonzeros in inequality constraint Jacobian.:        0\n",
      "Number of nonzeros in Lagrangian Hessian.............:     4950\n",
      "\n",
      "Total number of variables............................:       99\n",
      "                     variables with only lower bounds:        0\n",
      "                variables with lower and upper bounds:        0\n",
      "                     variables with only upper bounds:        0\n",
      "Total number of equality constraints.................:        0\n",
      "Total number of inequality constraints...............:        0\n",
      "        inequality constraints with only lower bounds:        0\n",
      "   inequality constraints with lower and upper bounds:        0\n",
      "        inequality constraints with only upper bounds:        0\n",
      "\n",
      "iter    objective    inf_pr   inf_du lg(mu)  ||d||  lg(rg) alpha_du alpha_pr  ls\n",
      "   0  1.4278431e+00 0.00e+00 1.21e+01  -1.0 0.00e+00    -  0.00e+00 0.00e+00   0\n",
      "   1  1.2032022e+00 0.00e+00 5.37e+00  -1.0 1.01e-02    -  1.00e+00 1.00e+00f  1\n",
      "   2  1.0779732e+00 0.00e+00 2.31e+00  -1.0 9.50e-03    -  1.00e+00 1.00e+00f  1\n",
      "   3  1.0190138e+00 0.00e+00 9.65e-01  -1.0 1.34e-02    -  1.00e+00 1.00e+00f  1\n",
      "   4  9.9486400e-01 0.00e+00 3.93e-01  -1.7 1.82e-02    -  1.00e+00 1.00e+00f  1\n",
      "   5  9.8566336e-01 0.00e+00 1.55e-01  -1.7 2.39e-02    -  1.00e+00 1.00e+00f  1\n",
      "   6  9.8230303e-01 0.00e+00 5.68e-02  -2.5 2.95e-02    -  1.00e+00 1.00e+00f  1\n",
      "   7  9.8121030e-01 0.00e+00 1.77e-02  -2.5 3.12e-02    -  1.00e+00 1.00e+00f  1\n",
      "   8  9.8098765e-01 0.00e+00 3.55e-03  -3.8 2.24e-02    -  1.00e+00 1.00e+00f  1\n",
      "   9  9.8097488e-01 0.00e+00 2.17e-04  -3.8 7.04e-03    -  1.00e+00 1.00e+00f  1\n",
      "iter    objective    inf_pr   inf_du lg(mu)  ||d||  lg(rg) alpha_du alpha_pr  ls\n",
      "  10  9.8097482e-01 0.00e+00 9.10e-07  -5.7 4.84e-04    -  1.00e+00 1.00e+00f  1\n",
      "  11  9.8097482e-01 0.00e+00 1.60e-11  -8.6 2.04e-06    -  1.00e+00 1.00e+00f  1\n",
      "\n",
      "Number of Iterations....: 11\n",
      "\n",
      "                                   (scaled)                 (unscaled)\n",
      "Objective...............:   9.8097482487811782e-01    9.8097482487811782e-01\n",
      "Dual infeasibility......:   1.6047829731746788e-11    1.6047829731746788e-11\n",
      "Constraint violation....:   0.0000000000000000e+00    0.0000000000000000e+00\n",
      "Complementarity.........:   0.0000000000000000e+00    0.0000000000000000e+00\n",
      "Overall NLP error.......:   1.6047829731746788e-11    1.6047829731746788e-11\n",
      "\n",
      "\n",
      "Number of objective function evaluations             = 12\n",
      "Number of objective gradient evaluations             = 12\n",
      "Number of equality constraint evaluations            = 0\n",
      "Number of inequality constraint evaluations          = 0\n",
      "Number of equality constraint Jacobian evaluations   = 0\n",
      "Number of inequality constraint Jacobian evaluations = 0\n",
      "Number of Lagrangian Hessian evaluations             = 11\n",
      "Total CPU secs in IPOPT (w/o function evaluations)   =      0.004\n",
      "Total CPU secs in NLP function evaluations           =      0.002\n",
      "\n",
      "EXIT: Optimal Solution Found.\n",
      "               t_proc [s]   t_wall [s]    n_eval\n",
      "           S      0.00997      0.00887         1\n",
      "       nlp_f      7.2e-05     6.77e-05        12\n",
      "  nlp_grad_f      0.00011     0.000111        13\n",
      "  nlp_hess_l      0.00269      0.00267        11\n"
     ]
    },
    {
     "data": {
      "text/plain": [
       "<matplotlib.legend.Legend at 0x7f1930e96fd0>"
      ]
     },
     "execution_count": 19,
     "metadata": {},
     "output_type": "execute_result"
    },
    {
     "data": {
      "image/png": "[encoded data removed]",
      "text/plain": [
       "<Figure size 432x288 with 1 Axes>"
      ]
     },
     "metadata": {
      "needs_background": "light"
     },
     "output_type": "display_data"
    }
   ],
   "source": [
    "n_x = 100  # number of points for approximation of path\n",
    "x_end = 3  # final x position when height is zero\n",
    "\n",
    "# analytical solution\n",
    "xa, ya = analytical(x_end=x_end, n_x=n_x)\n",
    "\n",
    "# numerical solution\n",
    "x, y_opt = numerical(x_end=x_end, n_x=n_x)\n",
    "\n",
    "# plot\n",
    "plt.title('brachistochrone')\n",
    "plt.plot(x, y_opt, label='numerical')\n",
    "plt.plot(xa, ya, 'r--', label='analytical', alpha=0.5)\n",
    "plt.grid(True)\n",
    "plt.xlabel('x, m')\n",
    "plt.ylabel('z, m')\n",
    "plt.legend()"
   ]
  },
  {
   "cell_type": "code",
   "execution_count": null,
   "metadata": {},
   "outputs": [],
   "source": []
  },
  {
   "cell_type": "code",
   "execution_count": null,
   "metadata": {},
   "outputs": [],
   "source": []
  }
 ],
 "metadata": {
  "kernelspec": {
   "display_name": "Python 3",
   "language": "python",
   "name": "python3"
  },
  "language_info": {
   "codemirror_mode": {
    "name": "ipython",
    "version": 3
   },
   "file_extension": ".py",
   "mimetype": "text/x-python",
   "name": "python",
   "nbconvert_exporter": "python",
   "pygments_lexer": "ipython3",
   "version": "3.7.3"
  }
 },
 "nbformat": 4,
 "nbformat_minor": 4
}
