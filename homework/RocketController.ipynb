{
 "cells": [
  {
   "cell_type": "code",
   "execution_count": 75,
   "metadata": {},
   "outputs": [],
   "source": [
    "import control\n",
    "import casadi as ca\n",
    "import matplotlib.pyplot as plt\n",
    "import numpy as np\n",
    "\n",
    "s = control.tf([1, 0], [0, 1])"
   ]
  },
  {
   "cell_type": "code",
   "execution_count": 87,
   "metadata": {},
   "outputs": [
    {
     "name": "stdout",
     "output_type": "stream",
     "text": [
      "1-F16-Pitch.ipynb\tHW03.ipynb   RocketController.ipynb\n",
      "1-F16-Pitch.ipynb.orig\tHW04.ipynb   Rocket_random_stuff.ipynb\n",
      "6-Casadi-Brach.ipynb\tjit_tmp.c    source.dot\n",
      "analysis.py\t\t__pycache__\n"
     ]
    }
   ],
   "source": [
    "!"
   ]
  },
  {
   "cell_type": "code",
   "execution_count": 83,
   "metadata": {},
   "outputs": [
    {
     "name": "stdout",
     "output_type": "stream",
     "text": [
      "\n",
      "  2010 s^3 + 460 s^2 + 1.794e-11 s - 4.772e-13\n",
      "------------------------------------------------\n",
      "s^5 + 38.85 s^4 + 2027 s^3 + 494.2 s^2 - 17.56 s\n",
      "\n",
      "1 states have been removed from the model\n",
      "\n",
      "        2010 s^2 + 460 s - 1.482e-05\n",
      "--------------------------------------------\n",
      "s^4 + 38.85 s^3 + 2027 s^2 + 494.2 s - 17.56\n",
      "\n"
     ]
    }
   ],
   "source": [
    "G = (2010*s**3 + 460*s**2 + 1.794*1e-11*s-4.772*1e-13)/(s**5 + 38.85*s**4 + 2027*s**3 + 494.2*s**2-17.56*s)\n",
    "H = 1\n",
    "print(G)\n",
    "Go = control.minreal(G*H, 1e-2)\n",
    "print(Go)"
   ]
  },
  {
   "cell_type": "code",
   "execution_count": 86,
   "metadata": {},
   "outputs": [
    {
     "data": {
      "text/plain": [
       "[-2, 2, -2, 2]"
      ]
     },
     "execution_count": 86,
     "metadata": {},
     "output_type": "execute_result"
    },
    {
     "data": {
      "image/png": "[encoded data removed]",
      "text/plain": [
       "<Figure size 432x288 with 1 Axes>"
      ]
     },
     "metadata": {
      "needs_background": "light"
     },
     "output_type": "display_data"
    }
   ],
   "source": [
    "control.rlocus(Go);\n",
    "#plt.plot([0, -100], [0, 50])\n",
    "plt.axis([-2, 2, -2, 2])"
   ]
  },
  {
   "cell_type": "code",
   "execution_count": 73,
   "metadata": {},
   "outputs": [
    {
     "data": {
      "text/plain": [
       "[<matplotlib.lines.Line2D at 0x7f32b77a2cf8>]"
      ]
     },
     "execution_count": 73,
     "metadata": {},
     "output_type": "execute_result"
    },
    {
     "data": {
      "image/png": "[encoded data removed]",
      "text/plain": [
       "<Figure size 432x288 with 1 Axes>"
      ]
     },
     "metadata": {
      "needs_background": "light"
     },
     "output_type": "display_data"
    }
   ],
   "source": [
    "Gc = control.feedback(Go)\n",
    "t, y = control.step_response(Gc)\n",
    "plt.plot(t, y - 1)"
   ]
  },
  {
   "cell_type": "code",
   "execution_count": 5,
   "metadata": {},
   "outputs": [
    {
     "data": {
      "text/plain": [
       "A = [[0.90483742]]\n",
       "\n",
       "B = [[10.]]\n",
       "\n",
       "C = [[19.03251639]]\n",
       "\n",
       "D = [[2000.]]\n",
       "\n",
       "dt = 0.01"
      ]
     },
     "execution_count": 5,
     "metadata": {},
     "output_type": "execute_result"
    }
   ],
   "source": [
    "Hd = control.tf2ss(control.c2d(H, 0.01))\n",
    "Hd"
   ]
  },
  {
   "cell_type": "code",
   "execution_count": 6,
   "metadata": {},
   "outputs": [
    {
     "data": {
      "text/plain": [
       "Function(control:(x[2],y)->(x1[2],y[2]) SXFunction)"
      ]
     },
     "execution_count": 6,
     "metadata": {},
     "output_type": "execute_result"
    }
   ],
   "source": [
    "x = ca.SX.sym('x', 2)\n",
    "u = ca.SX.sym('u', 1)\n",
    "\n",
    "x1 = ca.mtimes(Hd.A, x) + ca.mtimes(Hd.B, u)\n",
    "y = ca.mtimes(Hd.C, x) + ca.mtimes(Hd.D, u)\n",
    "\n",
    "ca.Function('control', [x, u], [x1, y], ['x', 'y'], ['x1', 'y'])"
   ]
  },
  {
   "cell_type": "code",
   "execution_count": null,
   "metadata": {},
   "outputs": [],
   "source": []
  },
  {
   "cell_type": "code",
   "execution_count": null,
   "metadata": {},
   "outputs": [],
   "source": []
  }
 ],
 "metadata": {
  "kernelspec": {
   "display_name": "Python 3",
   "language": "python",
   "name": "python3"
  },
  "language_info": {
   "codemirror_mode": {
    "name": "ipython",
    "version": 3
   },
   "file_extension": ".py",
   "mimetype": "text/x-python",
   "name": "python",
   "nbconvert_exporter": "python",
   "pygments_lexer": "ipython3",
   "version": "3.7.3"
  }
 },
 "nbformat": 4,
 "nbformat_minor": 4
}
